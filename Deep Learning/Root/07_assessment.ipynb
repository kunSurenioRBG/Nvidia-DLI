{
 "cells": [
  {
   "cell_type": "markdown",
   "metadata": {},
   "source": [
    "<center><a href=\"https://www.nvidia.com/dli\"> <img src=\"images/DLI_Header.png\" alt=\"Header\" style=\"width: 400px;\"/> </a></center>"
   ]
  },
  {
   "cell_type": "markdown",
   "metadata": {},
   "source": [
    "# Assessment"
   ]
  },
  {
   "cell_type": "markdown",
   "metadata": {},
   "source": [
    "Congratulations on going through today's course! Hopefully, you've learned some valuable skills along the way and had fun doing it. Now it's time to put those skills to the test. In this assessment, you will train a new model that is able to recognize fresh and rotten fruit. You will need to get the model to a validation accuracy of `92%` in order to pass the assessment, though we challenge you to do even better if you can. You will have the use the skills that you learned in the previous exercises. Specifically, we suggest using some combination of transfer learning, data augmentation, and fine tuning. Once you have trained the model to be at least 92% accurate on the validation dataset, save your model, and then assess its accuracy. Let's get started! "
   ]
  },
  {
   "cell_type": "markdown",
   "metadata": {},
   "source": [
    "## The Dataset"
   ]
  },
  {
   "cell_type": "markdown",
   "metadata": {},
   "source": [
    "In this exercise, you will train a model to recognize fresh and rotten fruits. The dataset comes from [Kaggle](https://www.kaggle.com/sriramr/fruits-fresh-and-rotten-for-classification), a great place to go if you're interested in starting a project after this class. The dataset structure is in the `data/fruits` folder. There are 6 categories of fruits: fresh apples, fresh oranges, fresh bananas, rotten apples, rotten oranges, and rotten bananas. This will mean that your model will require an output layer of 6 neurons to do the categorization successfully. You'll also need to compile the model with `categorical_crossentropy`, as we have more than two categories."
   ]
  },
  {
   "cell_type": "markdown",
   "metadata": {},
   "source": [
    "<img src=\"./images/fruits.png\" style=\"width: 600px;\">"
   ]
  },
  {
   "cell_type": "markdown",
   "metadata": {},
   "source": [
    "## Load ImageNet Base Model"
   ]
  },
  {
   "cell_type": "markdown",
   "metadata": {},
   "source": [
    "We encourage you to start with a model pretrained on ImageNet. Load the model with the correct weights, set an input shape, and choose to remove the last layers of the model. Remember that images have three dimensions: a height, and width, and a number of channels. Because these pictures are in color, there will be three channels for red, green, and blue. We've filled in the input shape for you. This cannot be changed or the assessment will fail. If you need a reference for setting up the pretrained model, please take a look at [notebook 05b](05b_presidential_doggy_door.ipynb) where we implemented transfer learning."
   ]
  },
  {
   "cell_type": "code",
   "execution_count": 30,
   "metadata": {},
   "outputs": [],
   "source": [
    "from tensorflow import keras\n",
    "\n",
    "base_model = keras.applications.VGG16(\n",
    "    weights='imagenet',\n",
    "    input_shape=(224, 224, 3),\n",
    "    include_top=False)"
   ]
  },
  {
   "cell_type": "code",
   "execution_count": 31,
   "metadata": {},
   "outputs": [
    {
     "name": "stdout",
     "output_type": "stream",
     "text": [
      "Model: \"vgg16\"\n",
      "_________________________________________________________________\n",
      "Layer (type)                 Output Shape              Param #   \n",
      "=================================================================\n",
      "input_8 (InputLayer)         [(None, 224, 224, 3)]     0         \n",
      "_________________________________________________________________\n",
      "block1_conv1 (Conv2D)        (None, 224, 224, 64)      1792      \n",
      "_________________________________________________________________\n",
      "block1_conv2 (Conv2D)        (None, 224, 224, 64)      36928     \n",
      "_________________________________________________________________\n",
      "block1_pool (MaxPooling2D)   (None, 112, 112, 64)      0         \n",
      "_________________________________________________________________\n",
      "block2_conv1 (Conv2D)        (None, 112, 112, 128)     73856     \n",
      "_________________________________________________________________\n",
      "block2_conv2 (Conv2D)        (None, 112, 112, 128)     147584    \n",
      "_________________________________________________________________\n",
      "block2_pool (MaxPooling2D)   (None, 56, 56, 128)       0         \n",
      "_________________________________________________________________\n",
      "block3_conv1 (Conv2D)        (None, 56, 56, 256)       295168    \n",
      "_________________________________________________________________\n",
      "block3_conv2 (Conv2D)        (None, 56, 56, 256)       590080    \n",
      "_________________________________________________________________\n",
      "block3_conv3 (Conv2D)        (None, 56, 56, 256)       590080    \n",
      "_________________________________________________________________\n",
      "block3_pool (MaxPooling2D)   (None, 28, 28, 256)       0         \n",
      "_________________________________________________________________\n",
      "block4_conv1 (Conv2D)        (None, 28, 28, 512)       1180160   \n",
      "_________________________________________________________________\n",
      "block4_conv2 (Conv2D)        (None, 28, 28, 512)       2359808   \n",
      "_________________________________________________________________\n",
      "block4_conv3 (Conv2D)        (None, 28, 28, 512)       2359808   \n",
      "_________________________________________________________________\n",
      "block4_pool (MaxPooling2D)   (None, 14, 14, 512)       0         \n",
      "_________________________________________________________________\n",
      "block5_conv1 (Conv2D)        (None, 14, 14, 512)       2359808   \n",
      "_________________________________________________________________\n",
      "block5_conv2 (Conv2D)        (None, 14, 14, 512)       2359808   \n",
      "_________________________________________________________________\n",
      "block5_conv3 (Conv2D)        (None, 14, 14, 512)       2359808   \n",
      "_________________________________________________________________\n",
      "block5_pool (MaxPooling2D)   (None, 7, 7, 512)         0         \n",
      "=================================================================\n",
      "Total params: 14,714,688\n",
      "Trainable params: 14,714,688\n",
      "Non-trainable params: 0\n",
      "_________________________________________________________________\n"
     ]
    }
   ],
   "source": [
    "base_model.summary()"
   ]
  },
  {
   "cell_type": "markdown",
   "metadata": {},
   "source": [
    "## Freeze Base Model"
   ]
  },
  {
   "cell_type": "markdown",
   "metadata": {},
   "source": [
    "Next, we suggest freezing the base model, as done in [notebook 05b](05b_presidential_doggy_door.ipynb). This is done so that all the learning from the ImageNet dataset does not get destroyed in the initial training."
   ]
  },
  {
   "cell_type": "code",
   "execution_count": 32,
   "metadata": {},
   "outputs": [],
   "source": [
    "# Freeze base model\n",
    "base_model.trainable = False"
   ]
  },
  {
   "cell_type": "markdown",
   "metadata": {},
   "source": [
    "## Add Layers to Model"
   ]
  },
  {
   "cell_type": "markdown",
   "metadata": {},
   "source": [
    "Now it's time to add layers to the pretrained model. [Notebook 05b](05b_presidential_doggy_door.ipynb) can be used as a guide. Pay close attention to the last dense layer and make sure it has the correct number of neurons to classify the different types of fruit."
   ]
  },
  {
   "cell_type": "code",
   "execution_count": 33,
   "metadata": {},
   "outputs": [],
   "source": [
    "# Create inputs with correct shape\n",
    "inputs = keras.Input(shape=(224,224,3))\n",
    "\n",
    "x = base_model(inputs, training=False)\n",
    "\n",
    "# Add pooling layer or flatten layer\n",
    "x = keras.layers.GlobalAveragePooling2D()(x)\n",
    "\n",
    "# Add final dense layer\n",
    "outputs = keras.layers.Dense(6, activation = 'softmax')(x)\n",
    "\n",
    "# Combine inputs and outputs to create model\n",
    "model = keras.Model(inputs,outputs)"
   ]
  },
  {
   "cell_type": "code",
   "execution_count": 34,
   "metadata": {},
   "outputs": [
    {
     "name": "stdout",
     "output_type": "stream",
     "text": [
      "Model: \"model_3\"\n",
      "_________________________________________________________________\n",
      "Layer (type)                 Output Shape              Param #   \n",
      "=================================================================\n",
      "input_9 (InputLayer)         [(None, 224, 224, 3)]     0         \n",
      "_________________________________________________________________\n",
      "vgg16 (Model)                (None, 7, 7, 512)         14714688  \n",
      "_________________________________________________________________\n",
      "global_average_pooling2d_3 ( (None, 512)               0         \n",
      "_________________________________________________________________\n",
      "dense_3 (Dense)              (None, 6)                 3078      \n",
      "=================================================================\n",
      "Total params: 14,717,766\n",
      "Trainable params: 3,078\n",
      "Non-trainable params: 14,714,688\n",
      "_________________________________________________________________\n"
     ]
    }
   ],
   "source": [
    "model.summary()"
   ]
  },
  {
   "cell_type": "markdown",
   "metadata": {},
   "source": [
    "## Compile Model"
   ]
  },
  {
   "cell_type": "markdown",
   "metadata": {},
   "source": [
    "Now it's time to compile the model with loss and metrics options. Remember that we're training on a number of different categories, rather than a binary classification problem."
   ]
  },
  {
   "cell_type": "code",
   "execution_count": 35,
   "metadata": {},
   "outputs": [],
   "source": [
    "model.compile(loss = 'categorical_crossentropy' , metrics = ['accuracy'])"
   ]
  },
  {
   "cell_type": "markdown",
   "metadata": {},
   "source": [
    "## Augment the Data"
   ]
  },
  {
   "cell_type": "markdown",
   "metadata": {},
   "source": [
    "If you'd like, try to augment the data to improve the dataset. Feel free to look at [notebook 04a](04a_asl_augmentation.ipynb) and [notebook 05b](05b_presidential_doggy_door.ipynb) for augmentation examples. There is also documentation for the [Keras ImageDataGenerator class](https://keras.io/api/preprocessing/image/#imagedatagenerator-class). This step is optional, but it may be helpful to get to 92% accuracy."
   ]
  },
  {
   "cell_type": "code",
   "execution_count": 36,
   "metadata": {},
   "outputs": [],
   "source": [
    "from tensorflow.keras.preprocessing.image import ImageDataGenerator\n",
    "\n",
    "datagen_train = ImageDataGenerator(\n",
    "    samplewise_center=True,  # set each sample mean to 0\n",
    "    rotation_range=10,  # randomly rotate images in the range (degrees, 0 to 180)\n",
    "    zoom_range=0.1,  # Randomly zoom image\n",
    "    width_shift_range=0.1,  # randomly shift images horizontally (fraction of total width)\n",
    "    height_shift_range=0.1,  # randomly shift images vertically (fraction of total height)\n",
    "    horizontal_flip=True,  # randomly flip images\n",
    "    vertical_flip=False,)\n",
    "datagen_valid = ImageDataGenerator(samplewise_center=True)"
   ]
  },
  {
   "cell_type": "markdown",
   "metadata": {},
   "source": [
    "## Load Dataset"
   ]
  },
  {
   "cell_type": "markdown",
   "metadata": {},
   "source": [
    "Now it's time to load the train and validation datasets. Pick the right folders, as well as the right `target_size` of the images (it needs to match the height and width input of the model you've created). For a reference, check out [notebook 05b](05b_presidential_doggy_door.ipynb)."
   ]
  },
  {
   "cell_type": "code",
   "execution_count": 37,
   "metadata": {},
   "outputs": [
    {
     "name": "stdout",
     "output_type": "stream",
     "text": [
      "Found 1182 images belonging to 6 classes.\n",
      "Found 329 images belonging to 6 classes.\n"
     ]
    }
   ],
   "source": [
    "# load and iterate training dataset\n",
    "train_it = datagen_train.flow_from_directory(\n",
    "    \"data/fruits/train/\",\n",
    "    target_size=(224, 224),\n",
    "    color_mode=\"rgb\",\n",
    "    class_mode=\"categorical\",\n",
    ")\n",
    "# load and iterate validation dataset\n",
    "valid_it = datagen_valid.flow_from_directory(\n",
    "    \"data/fruits/valid\",\n",
    "    target_size=(224, 224),\n",
    "    color_mode=\"rgb\",\n",
    "    class_mode=\"categorical\",\n",
    ")"
   ]
  },
  {
   "cell_type": "markdown",
   "metadata": {},
   "source": [
    "## Train the Model"
   ]
  },
  {
   "cell_type": "markdown",
   "metadata": {},
   "source": [
    "Time to train the model! Pass the `train` and `valid` iterators into the `fit` function, as well as setting the desired number of epochs."
   ]
  },
  {
   "cell_type": "code",
   "execution_count": 38,
   "metadata": {},
   "outputs": [
    {
     "name": "stdout",
     "output_type": "stream",
     "text": [
      "Epoch 1/20\n",
      "37/36 [==============================] - 26s 711ms/step - loss: 3.2263 - accuracy: 0.4086 - val_loss: 1.2845 - val_accuracy: 0.6109\n",
      "Epoch 2/20\n",
      "37/36 [==============================] - 17s 470ms/step - loss: 0.9199 - accuracy: 0.7166 - val_loss: 0.5107 - val_accuracy: 0.8389\n",
      "Epoch 3/20\n",
      "37/36 [==============================] - 17s 462ms/step - loss: 0.4664 - accuracy: 0.8477 - val_loss: 0.4300 - val_accuracy: 0.8693\n",
      "Epoch 4/20\n",
      "37/36 [==============================] - 17s 465ms/step - loss: 0.2820 - accuracy: 0.8968 - val_loss: 0.2313 - val_accuracy: 0.9483\n",
      "Epoch 5/20\n",
      "37/36 [==============================] - 17s 461ms/step - loss: 0.1848 - accuracy: 0.9416 - val_loss: 0.3112 - val_accuracy: 0.8906\n",
      "Epoch 6/20\n",
      "37/36 [==============================] - 17s 461ms/step - loss: 0.1503 - accuracy: 0.9450 - val_loss: 0.2040 - val_accuracy: 0.9392\n",
      "Epoch 7/20\n",
      "37/36 [==============================] - 17s 462ms/step - loss: 0.1155 - accuracy: 0.9585 - val_loss: 0.1845 - val_accuracy: 0.9483\n",
      "Epoch 8/20\n",
      "37/36 [==============================] - 17s 461ms/step - loss: 0.0809 - accuracy: 0.9805 - val_loss: 0.2043 - val_accuracy: 0.9514\n",
      "Epoch 9/20\n",
      "37/36 [==============================] - 17s 466ms/step - loss: 0.0855 - accuracy: 0.9645 - val_loss: 0.1583 - val_accuracy: 0.9574\n",
      "Epoch 10/20\n",
      "37/36 [==============================] - 17s 463ms/step - loss: 0.0606 - accuracy: 0.9797 - val_loss: 0.1922 - val_accuracy: 0.9544\n",
      "Epoch 11/20\n",
      "37/36 [==============================] - 17s 457ms/step - loss: 0.0487 - accuracy: 0.9839 - val_loss: 0.1482 - val_accuracy: 0.9726\n",
      "Epoch 12/20\n",
      "37/36 [==============================] - 17s 464ms/step - loss: 0.0404 - accuracy: 0.9882 - val_loss: 0.1505 - val_accuracy: 0.9635\n",
      "Epoch 13/20\n",
      "37/36 [==============================] - 17s 465ms/step - loss: 0.0449 - accuracy: 0.9882 - val_loss: 0.1421 - val_accuracy: 0.9574\n",
      "Epoch 14/20\n",
      "37/36 [==============================] - 17s 462ms/step - loss: 0.0411 - accuracy: 0.9890 - val_loss: 0.1381 - val_accuracy: 0.9726\n",
      "Epoch 15/20\n",
      "37/36 [==============================] - 17s 465ms/step - loss: 0.0327 - accuracy: 0.9882 - val_loss: 0.1132 - val_accuracy: 0.9666\n",
      "Epoch 16/20\n",
      "37/36 [==============================] - 17s 465ms/step - loss: 0.0253 - accuracy: 0.9924 - val_loss: 0.2278 - val_accuracy: 0.9514\n",
      "Epoch 17/20\n",
      "37/36 [==============================] - 17s 461ms/step - loss: 0.0229 - accuracy: 0.9932 - val_loss: 0.1863 - val_accuracy: 0.9453\n",
      "Epoch 18/20\n",
      "37/36 [==============================] - 17s 465ms/step - loss: 0.0228 - accuracy: 0.9924 - val_loss: 0.1704 - val_accuracy: 0.9666\n",
      "Epoch 19/20\n",
      "37/36 [==============================] - 17s 465ms/step - loss: 0.0213 - accuracy: 0.9932 - val_loss: 0.0840 - val_accuracy: 0.9848\n",
      "Epoch 20/20\n",
      "37/36 [==============================] - 17s 464ms/step - loss: 0.0182 - accuracy: 0.9949 - val_loss: 0.1703 - val_accuracy: 0.9666\n"
     ]
    },
    {
     "data": {
      "text/plain": [
       "<tensorflow.python.keras.callbacks.History at 0x7fca880bd4e0>"
      ]
     },
     "execution_count": 38,
     "metadata": {},
     "output_type": "execute_result"
    }
   ],
   "source": [
    "model.fit(train_it,\n",
    "          validation_data=valid_it,\n",
    "          steps_per_epoch=train_it.samples/train_it.batch_size,\n",
    "          validation_steps=valid_it.samples/valid_it.batch_size,\n",
    "          epochs=20)"
   ]
  },
  {
   "cell_type": "code",
   "execution_count": 39,
   "metadata": {},
   "outputs": [
    {
     "data": {
      "image/png": "[encoded data removed]",
      "text/plain": [
       "<Figure size 432x360 with 1 Axes>"
      ]
     },
     "metadata": {
      "needs_background": "light"
     },
     "output_type": "display_data"
    }
   ],
   "source": [
    "from matplotlib import pyplot as plt\n",
    "history = model.history\n",
    "fig, axs = plt.subplots(1,1, figsize=(6, 5))\n",
    "axs.plot(history.history['accuracy'])\n",
    "axs.plot(history.history['val_accuracy'])\n",
    "plt.title('model accuracy')\n",
    "plt.ylabel('accuracy')\n",
    "plt.xlabel('epoch')\n",
    "plt.legend(['train', 'val'], loc='upper left')\n",
    "plt.show()\n"
   ]
  },
  {
   "cell_type": "markdown",
   "metadata": {},
   "source": [
    "## Unfreeze Model for Fine Tuning"
   ]
  },
  {
   "cell_type": "markdown",
   "metadata": {},
   "source": [
    "If you have reached 92% validation accuracy already, this next step is optional. If not, we suggest fine tuning the model with a very low learning rate."
   ]
  },
  {
   "cell_type": "code",
   "execution_count": 41,
   "metadata": {},
   "outputs": [],
   "source": [
    "# Unfreeze the base model\n",
    "base_model.trainable = True\n",
    "\n",
    "# Compile the model with a low learning rate\n",
    "model.compile(optimizer=keras.optimizers.RMSprop(learning_rate = 0.00001),\n",
    "              loss = 'categorical_crossentropy' , metrics = ['accuracy'])"
   ]
  },
  {
   "cell_type": "code",
   "execution_count": 42,
   "metadata": {},
   "outputs": [
    {
     "name": "stdout",
     "output_type": "stream",
     "text": [
      "Epoch 1/20\n",
      "37/36 [==============================] - 31s 833ms/step - loss: 0.0568 - accuracy: 0.9797 - val_loss: 0.1026 - val_accuracy: 0.9878\n",
      "Epoch 2/20\n",
      "37/36 [==============================] - 18s 493ms/step - loss: 0.0328 - accuracy: 0.9898 - val_loss: 0.1534 - val_accuracy: 0.9696\n",
      "Epoch 3/20\n",
      "37/36 [==============================] - 19s 506ms/step - loss: 0.0117 - accuracy: 0.9975 - val_loss: 0.1469 - val_accuracy: 0.9757\n",
      "Epoch 4/20\n",
      "37/36 [==============================] - 18s 492ms/step - loss: 0.0209 - accuracy: 0.9907 - val_loss: 0.1246 - val_accuracy: 0.9848\n",
      "Epoch 5/20\n",
      "37/36 [==============================] - 18s 487ms/step - loss: 0.0250 - accuracy: 0.9941 - val_loss: 0.1633 - val_accuracy: 0.9696\n",
      "Epoch 6/20\n",
      "37/36 [==============================] - 19s 506ms/step - loss: 0.0145 - accuracy: 0.9958 - val_loss: 0.1391 - val_accuracy: 0.9818\n",
      "Epoch 7/20\n",
      "37/36 [==============================] - 18s 493ms/step - loss: 0.0071 - accuracy: 0.9966 - val_loss: 0.1616 - val_accuracy: 0.9696\n",
      "Epoch 8/20\n",
      "37/36 [==============================] - 19s 507ms/step - loss: 0.0076 - accuracy: 0.9983 - val_loss: 0.0932 - val_accuracy: 0.9909\n",
      "Epoch 9/20\n",
      "37/36 [==============================] - 18s 493ms/step - loss: 0.0051 - accuracy: 0.9983 - val_loss: 0.0666 - val_accuracy: 0.9878\n",
      "Epoch 10/20\n",
      "37/36 [==============================] - 19s 501ms/step - loss: 0.0257 - accuracy: 0.9932 - val_loss: 0.2952 - val_accuracy: 0.9635\n",
      "Epoch 11/20\n",
      "37/36 [==============================] - 18s 481ms/step - loss: 5.3620e-04 - accuracy: 1.0000 - val_loss: 0.1573 - val_accuracy: 0.9757\n",
      "Epoch 12/20\n",
      "37/36 [==============================] - 19s 506ms/step - loss: 0.0062 - accuracy: 0.9975 - val_loss: 0.1693 - val_accuracy: 0.9726\n",
      "Epoch 13/20\n",
      "37/36 [==============================] - 19s 504ms/step - loss: 5.6901e-04 - accuracy: 1.0000 - val_loss: 0.2196 - val_accuracy: 0.9757\n",
      "Epoch 14/20\n",
      "37/36 [==============================] - 18s 491ms/step - loss: 0.0055 - accuracy: 0.9983 - val_loss: 0.1950 - val_accuracy: 0.9757\n",
      "Epoch 15/20\n",
      "37/36 [==============================] - 19s 513ms/step - loss: 1.7924e-04 - accuracy: 1.0000 - val_loss: 0.2186 - val_accuracy: 0.9787\n",
      "Epoch 16/20\n",
      "37/36 [==============================] - 18s 493ms/step - loss: 8.5061e-04 - accuracy: 1.0000 - val_loss: 0.0494 - val_accuracy: 0.9878\n",
      "Epoch 17/20\n",
      "37/36 [==============================] - 18s 494ms/step - loss: 1.4799e-04 - accuracy: 1.0000 - val_loss: 0.4042 - val_accuracy: 0.9574\n",
      "Epoch 18/20\n",
      "37/36 [==============================] - 18s 498ms/step - loss: 2.4588e-04 - accuracy: 1.0000 - val_loss: 0.5175 - val_accuracy: 0.9422\n",
      "Epoch 19/20\n",
      "37/36 [==============================] - 19s 504ms/step - loss: 0.0041 - accuracy: 0.9983 - val_loss: 0.1998 - val_accuracy: 0.9787\n",
      "Epoch 20/20\n",
      "37/36 [==============================] - 19s 506ms/step - loss: 1.0323e-05 - accuracy: 1.0000 - val_loss: 0.1436 - val_accuracy: 0.9878\n"
     ]
    },
    {
     "data": {
      "text/plain": [
       "<tensorflow.python.keras.callbacks.History at 0x7fca880f4f28>"
      ]
     },
     "execution_count": 42,
     "metadata": {},
     "output_type": "execute_result"
    }
   ],
   "source": [
    "model.fit(train_it,\n",
    "          validation_data=valid_it,\n",
    "          steps_per_epoch=train_it.samples/train_it.batch_size,\n",
    "          validation_steps=valid_it.samples/valid_it.batch_size,\n",
    "          epochs=20)"
   ]
  },
  {
   "cell_type": "markdown",
   "metadata": {},
   "source": [
    "## Evaluate the Model"
   ]
  },
  {
   "cell_type": "markdown",
   "metadata": {},
   "source": [
    "Hopefully, you now have a model that has a validation accuracy of 92% or higher. If not, you may want to go back and either run more epochs of training, or adjust your data augmentation. \n",
    "\n",
    "Once you are satisfied with the validation accuracy, evaluate the model by executing the following cell. The evaluate function will return a tuple, where the first value is your loss, and the second value is your accuracy. To pass, the model will need have an accuracy value of `92% or higher`. "
   ]
  },
  {
   "cell_type": "code",
   "execution_count": 43,
   "metadata": {},
   "outputs": [
    {
     "name": "stdout",
     "output_type": "stream",
     "text": [
      "11/10 [================================] - 2s 140ms/step - loss: 0.0994 - accuracy: 0.9909\n"
     ]
    },
    {
     "data": {
      "text/plain": [
       "[0.09938199818134308, 0.9908814430236816]"
      ]
     },
     "execution_count": 43,
     "metadata": {},
     "output_type": "execute_result"
    }
   ],
   "source": [
    "model.evaluate(valid_it, steps=valid_it.samples/valid_it.batch_size)"
   ]
  },
  {
   "cell_type": "markdown",
   "metadata": {},
   "source": [
    "## Run the Assessment"
   ]
  },
  {
   "cell_type": "markdown",
   "metadata": {},
   "source": [
    "To assess your model run the following two cells.\n",
    "\n",
    "**NOTE:** `run_assessment` assumes your model is named `model` and your validation data iterator is called `valid_it`. If for any reason you have modified these variable names, please update the names of the arguments passed to `run_assessment`."
   ]
  },
  {
   "cell_type": "code",
   "execution_count": 44,
   "metadata": {},
   "outputs": [],
   "source": [
    "from run_assessment import run_assessment"
   ]
  },
  {
   "cell_type": "code",
   "execution_count": 45,
   "metadata": {},
   "outputs": [
    {
     "name": "stdout",
     "output_type": "stream",
     "text": [
      "Evaluating model 5 times to obtain average accuracy...\n",
      "\n",
      "11/10 [================================] - 1s 136ms/step - loss: 0.1085 - accuracy: 0.9878\n",
      "11/10 [================================] - 1s 134ms/step - loss: 0.2261 - accuracy: 0.9848\n",
      "11/10 [================================] - 2s 143ms/step - loss: 0.1449 - accuracy: 0.9878\n",
      "11/10 [================================] - 1s 128ms/step - loss: 0.1449 - accuracy: 0.9878\n",
      "11/10 [================================] - 1s 134ms/step - loss: 0.1278 - accuracy: 0.9939\n",
      "\n",
      "Accuracy required to pass the assessment is 0.92 or greater.\n",
      "Your average accuracy is 0.9884.\n",
      "\n",
      "Congratulations! You passed the assessment!\n",
      "See instructions below to generate a certificate.\n"
     ]
    }
   ],
   "source": [
    "run_assessment(model, valid_it)"
   ]
  },
  {
   "cell_type": "markdown",
   "metadata": {},
   "source": [
    "## Generate a Certificate"
   ]
  },
  {
   "cell_type": "markdown",
   "metadata": {},
   "source": [
    "If you passed the assessment, please return to the course page (shown below) and click the \"ASSESS TASK\" button, which will generate your certificate for the course."
   ]
  },
  {
   "cell_type": "markdown",
   "metadata": {},
   "source": [
    "<img src=\"./images/assess_task.png\" style=\"width: 800px;\">"
   ]
  },
  {
   "cell_type": "markdown",
   "metadata": {},
   "source": [
    "<center><a href=\"https://www.nvidia.com/dli\"> <img src=\"images/DLI_Header.png\" alt=\"Header\" style=\"width: 400px;\"/> </a></center>"
   ]
  }
 ],
 "metadata": {
  "kernelspec": {
   "display_name": "Python 3",
   "language": "python",
   "name": "python3"
  },
  "language_info": {
   "codemirror_mode": {
    "name": "ipython",
    "version": 3
   },
   "file_extension": ".py",
   "mimetype": "text/x-python",
   "name": "python",
   "nbconvert_exporter": "python",
   "pygments_lexer": "ipython3",
   "version": "3.6.9"
  }
 },
 "nbformat": 4,
 "nbformat_minor": 4
}
